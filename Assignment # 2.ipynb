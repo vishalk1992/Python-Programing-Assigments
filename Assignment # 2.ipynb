{
 "cells": [
  {
   "cell_type": "code",
   "execution_count": null,
   "metadata": {},
   "outputs": [],
   "source": [
    "Sub1 = int(input(\"Enter the Eglish Sub Marks\"))\n",
    "Sub2 = int(input(\"Enter the Math Sub Marks\"))\n",
    "Sub3 = int(input(\"Enter the Urdu Sub Marks\"))\n",
    "Sub4 = int(input(\"Enter the chemistry Sub Marks\"))\n",
    "Sub5 = int(input(\"Enter the Pakistan Studies Sub Marks\"))\n",
    "avg = (Sub1 + Sub2 + Sub3 + Sub4 + Sub5) /5\n",
    "if avg >=80 and avg <=100 :\n",
    "    print(\"A+\")\n",
    "elif avg >= 70 and avg < 80 :\n",
    "    print(\"A\")\n",
    "elif avg >= 60 and avg < 70 :\n",
    "    print (\"B\")\n",
    "elif avg >= 50 and avg < 60 :\n",
    "    print (\"C\")\n",
    "elif avg >= 40 and avg < 50 :\n",
    "    print (\"D\")\n",
    "elif avg >= 33 and avg  < 40 :\n",
    "    print (\"E\")\n",
    "elif avg >= 0 and avg  < 33 :\n",
    "    print (\"Fail\")\n",
    "else :\n",
    "    print(\"You have given inapproperiate %\")"
   ]
  },
  {
   "cell_type": "code",
   "execution_count": null,
   "metadata": {},
   "outputs": [],
   "source": [
    "num = int(input(\"enter the number\"))\n",
    "if num % 2 == 0 :\n",
    "    print(\"this the even number\")\n",
    "else:\n",
    "    print(\"This is the odd numnber\")"
   ]
  },
  {
   "cell_type": "code",
   "execution_count": null,
   "metadata": {},
   "outputs": [],
   "source": [
    "list = [\"Python\", \"Programing\", \"Training\", 12, 0.97, False, \"Ajay\"]\n",
    "print (len(list))"
   ]
  },
  {
   "cell_type": "code",
   "execution_count": null,
   "metadata": {},
   "outputs": [],
   "source": [
    "list = [20, 25, 80, 12, 0.97]\n",
    "print(sum(list))"
   ]
  },
  {
   "cell_type": "code",
   "execution_count": null,
   "metadata": {},
   "outputs": [],
   "source": [
    "lst = [1, 1, 2, 3, 5, 8, 13, 21, 34, 55, 89]\n",
    "print (max(lst))"
   ]
  },
  {
   "cell_type": "code",
   "execution_count": null,
   "metadata": {},
   "outputs": [],
   "source": [
    "lst = [1, 1, 2, 3, 5, 8, 13, 21, 34, 55, 89]\n",
    "for num in lst:\n",
    " if num < 5:\n",
    "    print(num)"
   ]
  }
 ],
 "metadata": {
  "kernelspec": {
   "display_name": "Python 3",
   "language": "python",
   "name": "python3"
  },
  "language_info": {
   "codemirror_mode": {
    "name": "ipython",
    "version": 3
   },
   "file_extension": ".py",
   "mimetype": "text/x-python",
   "name": "python",
   "nbconvert_exporter": "python",
   "pygments_lexer": "ipython3",
   "version": "3.7.4"
  }
 },
 "nbformat": 4,
 "nbformat_minor": 2
}
