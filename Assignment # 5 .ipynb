{
 "cells": [
  {
   "cell_type": "code",
   "execution_count": 2,
   "metadata": {},
   "outputs": [
    {
     "name": "stdout",
     "output_type": "stream",
     "text": [
      "enter a value to calculate the factiorial of a number : 29\n",
      "8841761993739701954543616000000\n"
     ]
    }
   ],
   "source": [
    "#Question # 1\n",
    "\n",
    "def fact_n(num):\n",
    "    if num <0:\n",
    "        print(\"Plese enter the positive value\")\n",
    "    elif num <= 1:\n",
    "        return 1\n",
    "    else:\n",
    "        return num * fact_n(num-1)\n",
    "num=int(input(\"enter a value to calculate the factiorial of a number : \"))\n",
    "factorial = fact_n(num)\n",
    "print(factorial)\n"
   ]
  },
  {
   "cell_type": "code",
   "execution_count": 4,
   "metadata": {},
   "outputs": [
    {
     "name": "stdout",
     "output_type": "stream",
     "text": [
      "Enter a String to check the UPPER & lower Case letter count:-  Enter a String to check the UPPER & lower Case letter count:“Don’t be intimidated by what you don’t know. That can be your greatest strength and ensure that you do things differently from everyone else.”\n",
      "*********************\n",
      "You have 10 upper case character\n",
      "You have 151 lower case character\n",
      "*********************\n"
     ]
    }
   ],
   "source": [
    "#Question 2\n",
    "def func_strg(string):\n",
    "    upperchar=0\n",
    "    lowerchar=0\n",
    "    \n",
    "    for char in stg:\n",
    "        if (char.isupper()):\n",
    "            upperchar+=1\n",
    "        elif (char.islower()):\n",
    "            lowerchar+=1\n",
    "        else:\n",
    "            pass\n",
    "    return (\"*********************\\nYou have {} upper case character\\nYou have {} lower case character\\n*********************\". format(str(upperchar), str(lowerchar)))\n",
    "stg=input(\"Enter a String to check the UPPER & lower Case letter count:-\\n  \")\n",
    "working=func_strg(stg)\n",
    "print(working)"
   ]
  },
  {
   "cell_type": "code",
   "execution_count": null,
   "metadata": {},
   "outputs": [],
   "source": []
  },
  {
   "cell_type": "code",
   "execution_count": 5,
   "metadata": {},
   "outputs": [
    {
     "name": "stdout",
     "output_type": "stream",
     "text": [
      "Enter A string to Check that is Palindrome or not madam\n",
      "True\n"
     ]
    }
   ],
   "source": [
    "#Quest # 4\n",
    "\n",
    "def reverse(s):\n",
    "    return s[::-1]\n",
    "def ispalindrome(s):\n",
    "     rev=reverse(s)\n",
    "     if rev==s:\n",
    "        return True\n",
    "     return False\n",
    "word=input(\"Enter A string to Check that is Palindrome or not \") \n",
    "check=ispalindrome(word)\n",
    "print(check)"
   ]
  },
  {
   "cell_type": "code",
   "execution_count": 6,
   "metadata": {},
   "outputs": [
    {
     "name": "stdout",
     "output_type": "stream",
     "text": [
      "Enter a number to check its prime or not3\n",
      "This number is Prime\n"
     ]
    }
   ],
   "source": [
    "#Quest #5\n",
    "\n",
    "def prime(number):\n",
    "    counter=0\n",
    "    for i in range(1,number+1):\n",
    "        if number%i==0:\n",
    "            counter+=1\n",
    "    if counter==2:\n",
    "        return True\n",
    "    return False\n",
    "num=int(input(\"Enter a number to check its prime or not\"))\n",
    "ans=prime(num)\n",
    "if ans==1:\n",
    "    print(\"This number is Prime\")\n",
    "else:\n",
    "    print(\"This numer is not Prime\")"
   ]
  },
  {
   "cell_type": "code",
   "execution_count": 7,
   "metadata": {},
   "outputs": [
    {
     "name": "stdout",
     "output_type": "stream",
     "text": [
      "Enter Your UserName Vishal\n",
      "Enter from where you have done your Shopping Karachi\n",
      "Enter the item What you have Purchased or press q to Quit Game\n",
      "Enter the item What you have Purchased or press q to Quit Blub\n",
      "Enter the item What you have Purchased or press q to Quit Fan\n",
      "Enter the item What you have Purchased or press q to Quit Laptop\n",
      "Enter the item What you have Purchased or press q to Quit Iphone\n",
      "Enter the item What you have Purchased or press q to Quit jj\n",
      "Enter the item What you have Purchased or press q to Quit jsd\n",
      "Enter the item What you have Purchased or press q to Quit SJI\n",
      "Enter the item What you have Purchased or press q to Quit 1\n",
      "Enter the item What you have Purchased or press q to Quit Q\n",
      "Enter the item What you have Purchased or press q to Quit q\n",
      "Mr.Vishal have done his Shopping from Karachi.He has purchased the following items\n",
      "\n",
      "['Game', 'Blub', 'Fan', 'Laptop', 'Iphone', 'jj', 'jsd', 'SJI', '1', 'Q', 'q']\n",
      "None\n"
     ]
    }
   ],
   "source": [
    "# Quest # 6\n",
    "\n",
    "def shopping(name,city,*params):\n",
    "    print(\"Mr.\"+name+\" have done his Shopping from \"+city+\".He has purchased the following items\\n\")\n",
    "    for param in params:\n",
    "        print(param)\n",
    "user=input(\"Enter Your UserName \")\n",
    "city=input(\"Enter from where you have done your Shopping \") \n",
    "user_input=\"\"\n",
    "list1=[]\n",
    "while(user_input!=\"q\"):\n",
    "    user_input=input(\"Enter the item What you have Purchased or press q to Quit \")\n",
    "    list1.append(user_input)\n",
    "result=shopping(user,city,list1)\n",
    "print(result)"
   ]
  },
  {
   "cell_type": "code",
   "execution_count": null,
   "metadata": {},
   "outputs": [],
   "source": []
  }
 ],
 "metadata": {
  "kernelspec": {
   "display_name": "Python 3",
   "language": "python",
   "name": "python3"
  },
  "language_info": {
   "codemirror_mode": {
    "name": "ipython",
    "version": 3
   },
   "file_extension": ".py",
   "mimetype": "text/x-python",
   "name": "python",
   "nbconvert_exporter": "python",
   "pygments_lexer": "ipython3",
   "version": "3.7.4"
  }
 },
 "nbformat": 4,
 "nbformat_minor": 2
}
