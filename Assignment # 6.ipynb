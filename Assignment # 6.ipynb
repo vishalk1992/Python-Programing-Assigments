{
 "cells": [
  {
   "cell_type": "markdown",
   "metadata": {},
   "source": [
    "Question 1\n",
    "\n",
    "Object-oriented programming (OOP) is a programming language model in which programs are organized around data, or objects, rather than functions and logic. An object can be defined as a data field that has unique attributes and behavior. Examples of an object can range from physical entities, such as a human being that is described by properties like name and address, down to small computer programs, such as widgets. This opposes the historical approach to programming where emphasis was placed on how the logic was written rather than how to define the data within the logic.\n",
    "\n",
    "\n",
    "Question 2 \n",
    "\n",
    "1. Modularity for easier troubleshooting\n",
    "2. Reuse of code through inheritance\n",
    "3. Flexibility through polymorphism\n",
    "4. Effective problem solving\n",
    "5. Security\n",
    "6. Design Benifits\n",
    "\n",
    "\n",
    "Question 3\n",
    "\n",
    "A function is a piece of code that is called by name. It can be passed data to operate on (i.e. the parameters) and can optionally return data (the return value). All data that is passed to a function is explicitly passed.\n",
    "\n",
    "A method is a piece of code that is called by a name that is associated with an object. In most respects it is identical to a function except for two key differences:\n",
    "\n",
    "A method is implicitly passed the object on which it was called.\n",
    "A method is able to operate on data that is contained within the class (remembering that an object is an instance of a class - the class is the definition, the object is an instance of that data).\n",
    "\n",
    "Question 4\n",
    "\n",
    "\n",
    "Define the Following Terms: Class: In OOP the class is a blueprint for creating a object(particularly data structure),providing intail values for state(attributes) and implementation of behaviour(methods).The Class is a bluerpitn to define the nature of future object.\n",
    "\n",
    "Object: A unique instance of a data structure that's defined by its class. An object comprises both data members (class variables and instance variables) and methods.\n",
    "\n",
    "Attributes: Attributes are data stored inside a class or instance and represent the state or quality of the class or instance. In short, attributes store information about the instance.\n",
    "\n",
    "Behaviour: The behavior of an object is defined by its methods, which are the functions and subroutines defined within the object class.\n",
    "\n"
   ]
  },
  {
   "cell_type": "code",
   "execution_count": null,
   "metadata": {},
   "outputs": [],
   "source": [
    "class car():\n",
    "    def __init__(self,model,color,name,pessenger,speed):\n",
    "        #Attributes\n",
    "        self.model=model\n",
    "        self.color=color\n",
    "        self.name=name\n",
    "        self.pessenger=pessenger\n",
    "        self.speed=speed\n",
    "    #methods\n",
    "    def accelration(self):\n",
    "        self.speed*=2\n",
    "    def newcolor(self,newcolor):\n",
    "        self.color=newcolor\n",
    "    def newmodel(self,newmodel):\n",
    "        self.model=newmodel\n",
    "        #print(self.speed)\n",
    "#i m using speed in int because of methos we can uodate just int values  \n",
    "#instances of object\n",
    "ferrari=car('2k19','Red','Ferrari',4,160)\n",
    "bmw=car('2k16','Blue','BMW',5,120)\n",
    "fortunre=car('2k17','Black','Fortunre',8,140)\n",
    "corola=car('2k15','Golden','Corola',5,110)\n",
    "suzuki=car('2k14','Silver','Mehran',5,100)\n",
    "\n",
    "print('Suzuki Name is',suzuki.name)\n",
    "print('Color of my BMW',bmw.color)\n",
    "print(fortunre.pessenger,'pessengers can sit in',fortunre.name)\n",
    "print('Old model of',corola.name,'is',corola.model)\n",
    "corola.newmodel('2k17')\n",
    "print('New model of',corola.name,'is',corola.model)\n",
    "print(ferrari.speed,'km/h Old Speed of',ferrari.name)\n",
    "ferrari.accelration()\n",
    "print(ferrari.speed,'New Speed of',ferrari.name)"
   ]
  }
 ],
 "metadata": {
  "kernelspec": {
   "display_name": "Python 3",
   "language": "python",
   "name": "python3"
  },
  "language_info": {
   "codemirror_mode": {
    "name": "ipython",
    "version": 3
   },
   "file_extension": ".py",
   "mimetype": "text/x-python",
   "name": "python",
   "nbconvert_exporter": "python",
   "pygments_lexer": "ipython3",
   "version": "3.7.4"
  }
 },
 "nbformat": 4,
 "nbformat_minor": 2
}
