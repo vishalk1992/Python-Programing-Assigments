{
 "cells": [
  {
   "cell_type": "code",
   "execution_count": 3,
   "metadata": {},
   "outputs": [],
   "source": [
    "# Question 1\n",
    "person = {\n",
    "    \"first_name\": \"Ajay\", \n",
    "    \"last_name\": \"Kumar\", \n",
    "    \"City\": \"Karachi\", \n",
    "    \"Age\": 28\n",
    "}"
   ]
  },
  {
   "cell_type": "code",
   "execution_count": 4,
   "metadata": {},
   "outputs": [
    {
     "data": {
      "text/plain": [
       "{'first_name': 'Ajay', 'last_name': 'Kumar', 'City': 'Karachi', 'Age': 28}"
      ]
     },
     "execution_count": 4,
     "metadata": {},
     "output_type": "execute_result"
    }
   ],
   "source": [
    "person"
   ]
  },
  {
   "cell_type": "code",
   "execution_count": 5,
   "metadata": {},
   "outputs": [],
   "source": [
    "# add new key value pari\n",
    "person[\"qulification\"] = \"BSCS\""
   ]
  },
  {
   "cell_type": "code",
   "execution_count": 7,
   "metadata": {},
   "outputs": [
    {
     "name": "stdout",
     "output_type": "stream",
     "text": [
      "{'first_name': 'Ajay', 'last_name': 'Kumar', 'City': 'Karachi', 'Age': 28, 'qulification': 'BSCS'}\n"
     ]
    }
   ],
   "source": [
    "print(person)"
   ]
  },
  {
   "cell_type": "code",
   "execution_count": 8,
   "metadata": {},
   "outputs": [],
   "source": [
    "# update the qulification key\n",
    "person[\"qulification\"]=\"MSCS\""
   ]
  },
  {
   "cell_type": "code",
   "execution_count": 9,
   "metadata": {},
   "outputs": [
    {
     "data": {
      "text/plain": [
       "{'first_name': 'Ajay',\n",
       " 'last_name': 'Kumar',\n",
       " 'City': 'Karachi',\n",
       " 'Age': 28,\n",
       " 'qulification': 'MSCS'}"
      ]
     },
     "execution_count": 9,
     "metadata": {},
     "output_type": "execute_result"
    }
   ],
   "source": [
    "person"
   ]
  },
  {
   "cell_type": "code",
   "execution_count": 10,
   "metadata": {},
   "outputs": [],
   "source": [
    "# delete qulification \n",
    "del person[\"qulification\"]"
   ]
  },
  {
   "cell_type": "code",
   "execution_count": 11,
   "metadata": {},
   "outputs": [
    {
     "data": {
      "text/plain": [
       "{'first_name': 'Ajay', 'last_name': 'Kumar', 'City': 'Karachi', 'Age': 28}"
      ]
     },
     "execution_count": 11,
     "metadata": {},
     "output_type": "execute_result"
    }
   ],
   "source": [
    "person"
   ]
  },
  {
   "cell_type": "code",
   "execution_count": 19,
   "metadata": {},
   "outputs": [
    {
     "name": "stdout",
     "output_type": "stream",
     "text": [
      "{'county': 'Pakistan', 'population': '20 million', 'fact about city': 'Karachi is known as the City of Lights'}\n",
      "{'county': 'United States of America', 'population': '19.49 million', 'fact about city': 'Times Square is named after the New York Times. It was originally called Longacre Square until the Times moved there in 1904.'}\n"
     ]
    },
    {
     "data": {
      "text/plain": [
       "{'county': 'United Kingdom',\n",
       " 'population': '8.9 million',\n",
       " 'fact about city': 'It is illegal to die in the Palace of Westminste'}"
      ]
     },
     "execution_count": 19,
     "metadata": {},
     "output_type": "execute_result"
    }
   ],
   "source": [
    "# Question 2\n",
    "cities = {\n",
    "    \"New York\" : {\n",
    "        \"county\": \"United States of America\",\n",
    "        \"population\" : \"19.49 million\",\n",
    "        \"fact about city\" : \"Times Square is named after the New York Times. It was originally called Longacre Square until the Times moved there in 1904.\"\n",
    "    },\n",
    "    \n",
    "    \"Karachi\" : {\n",
    "        \"county\": \"Pakistan\",\n",
    "        \"population\" : \"20 million\",\n",
    "        \"fact about city\" : \"Karachi is known as the City of Lights\"\n",
    "    },\n",
    "    \n",
    "    \"London\" : {\n",
    "        \"county\": \"United Kingdom\",\n",
    "        \"population\" : \"8.9 million\",\n",
    "        \"fact about city\" : \"It is illegal to die in the Palace of Westminste\"\n",
    "    }\n",
    "}\n",
    "\n",
    "print(cities[\"Karachi\"])\n",
    "print(cities[\"New York\"])\n",
    "cities[\"London\"]"
   ]
  },
  {
   "cell_type": "code",
   "execution_count": null,
   "metadata": {},
   "outputs": [],
   "source": [
    "#Question 3\n",
    "\n",
    "prompt = \"How old are you?\"\n",
    "\n",
    "\n",
    "while True:\n",
    "    age = input(prompt)\n",
    "    age = int(age)\n",
    "    if age < 3:\n",
    "        print(\"You get in free!\")\n",
    "    elif age < 13:\n",
    "        print(\"  Your ticket is $10.\")\n",
    "    else:\n",
    "        print(\"  Your ticket is $15.\")"
   ]
  },
  {
   "cell_type": "code",
   "execution_count": null,
   "metadata": {},
   "outputs": [],
   "source": [
    "# Question 4\n",
    "def favorite_book(title):\n",
    "    print(\"One of my favorite books is \"+title.title())\n",
    "    \n",
    "book ='Alice in Wonderland.'\n",
    "favorite_book(book)"
   ]
  },
  {
   "cell_type": "code",
   "execution_count": null,
   "metadata": {},
   "outputs": [],
   "source": [
    "# QUestion 4\n",
    "# i got the many asnwer on internet but i did not understand. can please explain in next class\n",
    "num = random.randrange(1, 30)\n",
    "print(num)\n",
    "\n",
    "guess_number = int(input(\"Please enter your number\"))\n",
    "\n",
    "for guess in guess_number range(3):\n",
    "    if guess == num:\n",
    "        print(\"Your guess number matched\")\n",
    "    elif guess < num:\n",
    "        print(\"Your guess number is low\")\n",
    "        else:\n",
    "        print(\"Your guess number is high\")"
   ]
  },
  {
   "cell_type": "code",
   "execution_count": null,
   "metadata": {},
   "outputs": [],
   "source": [
    "import random\n",
    "num = random.randrange(1, 30)\n",
    "print(num)\n",
    "guess = int(input(\"Try to guess the number:\")) # ask user for a number\n",
    "while guess != num:\n",
    "    if (guess == num): \n",
    "        print (\"You got it!\")\n",
    "    elif (guess > num):\n",
    "        print (\"Wrong! You guessed too high\")\n",
    "        break\n",
    "    else:\n",
    "        print (\"Wrong! You guessed too low\")\n",
    "        break\n"
   ]
  },
  {
   "cell_type": "code",
   "execution_count": null,
   "metadata": {},
   "outputs": [],
   "source": [
    "# Quiz app with percentage\n",
    "\n",
    "Quiz = [\n",
    "    {\n",
    "        \"Qust\": \"No.1\",\n",
    "        \"Question\": \"When Pakistan won the Cricket World Cup?\",\n",
    "        \"Options\" : ['1992', '1996', '1999', '2003'],\n",
    "        \"Answer\" :  '1992'\n",
    "    },\n",
    "    \n",
    "    {\n",
    "        \"Qust\": \"No.2\",\n",
    "        \"Question\": \"The national language of Pakistan is\",\n",
    "        \"Options\" : [\"Pushto\", \"English\", \"Urdu\", \"Punjabi\"],\n",
    "        \"Answer\" :  \"Urdu\"\n",
    "    \n",
    "    },\n",
    "    \n",
    "    {\n",
    "        \"Qust\": \"No.3\",\n",
    "        \"Question\": \"The National game of Pakistan is\",\n",
    "        \"Options\" : [\"Cricket\", \"Hockey\", \"Football\", \"Tennis\"],\n",
    "        \"Answer\" :  \"Hockey\"\n",
    "    },\n",
    "    \n",
    "    {\n",
    "        \"Qust\": \"No.4\",\n",
    "        \"Question\": \"Pakistan’s national tree is\",\n",
    "        \"Options\" : [\"Sheesham\", \"Sandal\", \"Deodar\", \"Amaltas\"],\n",
    "        \"Answer\" :  \"Deodar\"\n",
    "    },\n",
    "    \n",
    "    {\n",
    "        \"Qust\": \"No.5\",\n",
    "        \"Question\": \"The national bird of Pakistan is\",\n",
    "        \"Options\" : [\"Pigeon\", \"Falcon\", \"Eagle\", \"Chukor\"],\n",
    "        \"Answer\" :  \"Chukor\"\n",
    "    },\n",
    "    \n",
    "    {\n",
    "        \"Qust\": \"No.6\",\n",
    "        \"Question\": \"Who is the national poet of Pakistan?\",\n",
    "        \"Options\" : [\"Allama Iqbal\", \"Hafeez Jallandri\", \"Faiz Ahmed Faiz\", \"Ahmed Faraz\"],\n",
    "        \"Answer\" :  \"Allama Iqbal\"\n",
    "    },\n",
    "    \n",
    "    {\n",
    "        \"Qust\": \"No.7\",\n",
    "        \"Question\": \"What is the name of national Animal of Pakistan?\",\n",
    "        \"Options\" : [\"Goat\", \"Lion\", \"Tiger\", \"Markhor\"],\n",
    "        \"Answer\" :  \"Markhor\"\n",
    "    },\n",
    "        \n",
    "     {\n",
    "        \"Qust\": \"No.8\",\n",
    "        \"Question\": \"Who composed the verses of Pakistan national Anthem?\",\n",
    "        \"Options\" : [\"Hafeez Jallandri\", \"Nasir Kazmi\", \"Allama Iqbal\", \"Faiz Ahmed Faiz\"],\n",
    "        \"Answer\" :  \"Hafeez Jallandri\"\n",
    "    },\n",
    "    \n",
    "    {\n",
    "        \"Qust\": \"No.9\",\n",
    "        \"Question\": \"Which is the oldest airline of Pakistan?\",\n",
    "        \"Options\" : [\"Blue Air line\", \"Shaheen Airline\", \"PIA\", \"Pak Airline\"],\n",
    "        \"Answer\" :  \"PIA\"\n",
    "    },\n",
    "        \n",
    "     {\n",
    "        \"Qust\": \"No.9\",\n",
    "        \"Question\": \"When Pakistan conducted its first series of Nuclear explosion?\",\n",
    "        \"Options\" : [\"March 1998\", \"April 1998\", \" June 1998\", \"May 1998\"],\n",
    "        \"Answer\" :  \"May 1998\"\n",
    "    }\n",
    "]\n",
    "\n",
    "        \n",
    "score = 0\n",
    "for App in Quiz:\n",
    "    data = App[\"Qust\"] + \": \" + App[\"Question\"] + \"\\n Please wirte the correct answer \\n\" + App[\"Options\"][0] + \"\\n\" + App[\"Options\"][1] + \"\\n\" + App[\"Options\"][2] + \"\\n\" + App[\"Options\"][3] + \"\\n\"\n",
    "    Answer = input(data)\n",
    "    if Answer == App[\"Answer\"] :\n",
    "          score += 10\n",
    "    print(f\"this is your score{score}\" \"\\n\")\n",
    "total_score = score\n",
    "print(\"Your Quiz percentage is :\" + str(total_score*100/100))\n"
   ]
  }
 ],
 "metadata": {
  "kernelspec": {
   "display_name": "Python 3",
   "language": "python",
   "name": "python3"
  },
  "language_info": {
   "codemirror_mode": {
    "name": "ipython",
    "version": 3
   },
   "file_extension": ".py",
   "mimetype": "text/x-python",
   "name": "python",
   "nbconvert_exporter": "python",
   "pygments_lexer": "ipython3",
   "version": "3.7.4"
  }
 },
 "nbformat": 4,
 "nbformat_minor": 2
}
