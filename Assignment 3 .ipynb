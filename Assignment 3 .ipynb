{
 "cells": [
  {
   "cell_type": "code",
   "execution_count": 12,
   "metadata": {},
   "outputs": [
    {
     "name": "stdout",
     "output_type": "stream",
     "text": [
      "enter 1st value2\n",
      "enter 2nd value2\n",
      "enter the operator^\n",
      "0 answer\n"
     ]
    }
   ],
   "source": [
    "val1 = int(input(\"enter 1st value\"))\n",
    "val2 = int(input(\"enter 2nd value\"))\n",
    "oper = input(\"enter the operator\")\n",
    "\n",
    "if oper == \"+\":\n",
    "    val = val1 + val2\n",
    "    print(val, 'answer')\n",
    "elif oper == \"-\":\n",
    "    val = val1 - val2\n",
    "    print(val, 'answer')\n",
    "elif oper == \"*\":\n",
    "    val = val1 * val2\n",
    "    print(val, 'answer')\n",
    "elif oper == \"\\\":\n",
    "    val = val1 \\ val2\n",
    "    print(val, 'answer')\n",
    "else:\n",
    "    print(\"enter the correct operator\")"
   ]
  },
  {
   "cell_type": "code",
   "execution_count": 32,
   "metadata": {},
   "outputs": [
    {
     "name": "stdout",
     "output_type": "stream",
     "text": [
      "enter the cityLahore\n",
      "this is not cleanest city\n"
     ]
    }
   ],
   "source": [
    "list = [\"isb\", \"Karachi\", \"Lahore\", \"Quetta\", \"Peshwar\"]\n",
    "\n",
    "val = input(\"enter the city\")\n",
    "\n",
    "for a_clean_city in list:\n",
    "    if val == a_clean_city:\n",
    "        print(\"This is the cleanest city\")\n",
    "    else:\n",
    "        print(\"this is not cleanest city\")\n",
    "        break"
   ]
  },
  {
   "cell_type": "code",
   "execution_count": 41,
   "metadata": {},
   "outputs": [
    {
     "name": "stdout",
     "output_type": "stream",
     "text": [
      "{1: 'Pakistan', 2: 'USA', 3: 'China', 4: 'Germany', 5: 'India', 6: 'Dubai'}\n"
     ]
    }
   ],
   "source": [
    "#adding the new key\n",
    "\n",
    "country_ranking = {\n",
    "    1: \"Pakistan\",\n",
    "    2: \"USA\",\n",
    "    3: \"China\",\n",
    "    4:\"Germany\",\n",
    "    5: \"India\",\n",
    "}\n",
    "country_ranking[6] = \"Dubai\"\n",
    "print(country_ranking)"
   ]
  },
  {
   "cell_type": "code",
   "execution_count": null,
   "metadata": {},
   "outputs": [],
   "source": [
    "numeric_values={'v1':8,'v2':240,'v3':230, \"v4\": 100}\n",
    "print(sum(numeric_values.values()))"
   ]
  }
 ],
 "metadata": {
  "kernelspec": {
   "display_name": "Python 3",
   "language": "python",
   "name": "python3"
  },
  "language_info": {
   "codemirror_mode": {
    "name": "ipython",
    "version": 3
   },
   "file_extension": ".py",
   "mimetype": "text/x-python",
   "name": "python",
   "nbconvert_exporter": "python",
   "pygments_lexer": "ipython3",
   "version": "3.7.4"
  }
 },
 "nbformat": 4,
 "nbformat_minor": 2
}
